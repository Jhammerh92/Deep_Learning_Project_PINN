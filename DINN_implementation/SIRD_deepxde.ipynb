{
 "cells": [
  {
   "cell_type": "code",
   "execution_count": 30,
   "id": "a9cd649b",
   "metadata": {},
   "outputs": [],
   "source": [
    "# follow this:\n",
    "# https://deepxde.readthedocs.io/en/latest/demos/pinn_inverse/lorenz.inverse.html"
   ]
  },
  {
   "cell_type": "code",
   "execution_count": 31,
   "id": "892c8f28",
   "metadata": {},
   "outputs": [],
   "source": [
    "import deepxde as dde\n",
    "import numpy as np\n",
    "from deepxde.backend import pytorch\n",
    "import torch"
   ]
  },
  {
   "cell_type": "code",
   "execution_count": 32,
   "id": "715c75b3",
   "metadata": {},
   "outputs": [],
   "source": [
    "alpha_real = 0.2\n",
    "beta_real = 0.05\n",
    "gamma_real = 0.01"
   ]
  },
  {
   "cell_type": "code",
   "execution_count": 33,
   "id": "298d11c7",
   "metadata": {},
   "outputs": [
    {
     "name": "stdout",
     "output_type": "stream",
     "text": [
      "total  [2.04643018e+05 1.47928048e+03 3.99489808e+06 7.98979617e+05]\n",
      "total  5000000.000000002\n"
     ]
    },
    {
     "data": {
      "image/png": "[encoded data removed]",
      "text/plain": [
       "<Figure size 432x288 with 1 Axes>"
      ]
     },
     "metadata": {
      "needs_background": "light"
     },
     "output_type": "display_data"
    }
   ],
   "source": [
    "import ODE_SIR\n",
    "solver = ODE_SIR.ODESolver()\n",
    "t, wsol, N = solver.solve_SIRD(alpha_real, beta_real, gamma_real)\n",
    "solver.plot_SIRD(t, wsol)"
   ]
  },
  {
   "cell_type": "code",
   "execution_count": 34,
   "id": "8dab3948",
   "metadata": {},
   "outputs": [],
   "source": [
    "S_sol, I_sol, R_sol, D_sol = wsol[:,0], wsol[:,1], wsol[:,2], wsol[:,3]\n",
    "init_num_people = np.sum(wsol[0,:])\n",
    "S_sol, I_sol, R_sol, D_sol = S_sol/init_num_people, I_sol/init_num_people, R_sol/init_num_people, D_sol/init_num_people"
   ]
  },
  {
   "cell_type": "code",
   "execution_count": 35,
   "id": "298b5b2c",
   "metadata": {},
   "outputs": [],
   "source": [
    "timedomain = dde.geometry.TimeDomain(0, max(t))"
   ]
  },
  {
   "cell_type": "code",
   "execution_count": 36,
   "id": "ed7ba73c",
   "metadata": {},
   "outputs": [],
   "source": [
    "alpha = dde.Variable(0.1)\n",
    "beta = dde.Variable(0.1)\n",
    "gamma = dde.Variable(0.1)"
   ]
  },
  {
   "cell_type": "code",
   "execution_count": 37,
   "id": "15586880",
   "metadata": {},
   "outputs": [],
   "source": [
    "def pde(t, y):\n",
    "    S, I = y[:, 0:1], y[:, 1:2]\n",
    "    \n",
    "    dS_t = dde.grad.jacobian(y, t, i=0)\n",
    "    dI_t = dde.grad.jacobian(y, t, i=1)\n",
    "    dR_t = dde.grad.jacobian(y, t, i=2)\n",
    "    dD_t = dde.grad.jacobian(y, t, i=3)\n",
    "    \n",
    "    return [dS_t + alpha*S*I, \n",
    "           dI_t - alpha*S*I + beta*I + gamma*I,\n",
    "           dR_t - beta*I,\n",
    "           dD_t - gamma*I]"
   ]
  },
  {
   "cell_type": "code",
   "execution_count": 38,
   "id": "4b2428f0",
   "metadata": {},
   "outputs": [],
   "source": [
    "def boundary(_, on_initial):\n",
    "    return on_initial\n",
    "\n",
    "# Initial conditions\n",
    "ic_S = dde.icbc.IC(timedomain, lambda X: torch.tensor(S_sol[0]).reshape(1,1), boundary, component=0)\n",
    "ic_I = dde.icbc.IC(timedomain, lambda X: torch.tensor(I_sol[0]).reshape(1,1), boundary, component=1)\n",
    "ic_R = dde.icbc.IC(timedomain, lambda X: torch.tensor(R_sol[0]).reshape(1,1), boundary, component=2)\n",
    "ic_D = dde.icbc.IC(timedomain, lambda X: torch.tensor(D_sol[0]).reshape(1,1), boundary, component=3)"
   ]
  },
  {
   "cell_type": "code",
   "execution_count": 39,
   "id": "1544e03c",
   "metadata": {},
   "outputs": [],
   "source": [
    "# Test points\n",
    "observe_S = dde.icbc.PointSetBC(t.reshape(len(t), 1), S_sol.reshape(len(S_sol), 1), component=0)\n",
    "observe_I = dde.icbc.PointSetBC(t.reshape(len(t), 1), I_sol.reshape(len(I_sol), 1), component=1)\n",
    "observe_R = dde.icbc.PointSetBC(t.reshape(len(t), 1), R_sol.reshape(len(R_sol), 1), component=2)\n",
    "observe_D = dde.icbc.PointSetBC(t.reshape(len(t), 1), D_sol.reshape(len(D_sol), 1), component=3)"
   ]
  },
  {
   "cell_type": "code",
   "execution_count": 40,
   "id": "0709a86b",
   "metadata": {},
   "outputs": [],
   "source": [
    "data = dde.data.PDE(\n",
    "    timedomain,\n",
    "    pde,\n",
    "    [ic_S, ic_I, ic_R, ic_D, \n",
    "     observe_S, observe_I,\n",
    "     observe_R,observe_D\n",
    "     ],\n",
    "    num_domain=50,\n",
    "    num_boundary=10,\n",
    "    anchors=t.reshape(len(t), 1),\n",
    ")"
   ]
  },
  {
   "cell_type": "code",
   "execution_count": 41,
   "id": "3afdc58c",
   "metadata": {},
   "outputs": [],
   "source": [
    "layer_size = [1] + [32] * 3 + [4]\n",
    "activation = \"tanh\"\n",
    "initializer = \"Glorot uniform\"\n",
    "net = dde.nn.FNN(layer_size, activation, initializer)"
   ]
  },
  {
   "cell_type": "code",
   "execution_count": 42,
   "id": "66885439",
   "metadata": {},
   "outputs": [
    {
     "name": "stdout",
     "output_type": "stream",
     "text": [
      "Compiling model...\n",
      "'compile' took 0.000275 s\n",
      "\n"
     ]
    }
   ],
   "source": [
    "model = dde.Model(data, net)\n",
    "variables = [alpha, beta, gamma]\n",
    "model.compile(\"adam\", lr=0.001, #metrics=[\"l2 relative error\"], \n",
    "              external_trainable_variables=variables)"
   ]
  },
  {
   "cell_type": "code",
   "execution_count": 43,
   "id": "2a13da1d",
   "metadata": {},
   "outputs": [
    {
     "name": "stdout",
     "output_type": "stream",
     "text": [
      "Training model...\n",
      "\n",
      "0         [1.65e-02, 3.30e-04, 4.21e-03, 1.90e-03, 1.00e+00, 4.00e-12, 0.00e+00, 0.00e+00, 2.40e+00, 1.16e-01, 1.82e-01, 9.20e-01]    [1.65e-02, 3.30e-04, 4.21e-03, 1.90e-03, 1.00e+00, 4.00e-12, 0.00e+00, 0.00e+00, 2.40e+00, 1.16e-01, 1.82e-01, 9.20e-01]    []  \n",
      "0 [1.00e-01, 1.00e-01, 1.00e-01]\n",
      "100 [9.26e-02, 6.88e-02, 6.53e-02]\n",
      "200 [9.61e-02, 5.21e-02, 4.05e-02]\n",
      "300 [9.85e-02, 4.35e-02, 2.35e-02]\n",
      "400 [1.01e-01, 4.38e-02, 1.42e-02]\n",
      "500 [1.02e-01, 4.76e-02, 9.61e-03]\n",
      "600 [1.04e-01, 5.05e-02, 6.95e-03]\n",
      "700 [1.06e-01, 5.21e-02, 5.68e-03]\n",
      "800 [1.08e-01, 5.27e-02, 5.29e-03]\n",
      "900 [1.10e-01, 5.28e-02, 5.26e-03]\n",
      "1000      [2.50e-05, 7.80e-06, 6.15e-06, 1.27e-06, 1.12e-07, 3.15e-09, 5.23e-10, 1.38e-09, 8.04e-03, 4.24e-03, 3.16e-03, 1.44e-04]    [2.50e-05, 7.80e-06, 6.15e-06, 1.27e-06, 1.12e-07, 3.15e-09, 5.23e-10, 1.38e-09, 8.04e-03, 4.24e-03, 3.16e-03, 1.44e-04]    []  \n",
      "1000 [1.12e-01, 5.26e-02, 5.33e-03]\n",
      "1100 [1.15e-01, 5.23e-02, 5.40e-03]\n",
      "1200 [1.17e-01, 5.19e-02, 5.52e-03]\n",
      "1300 [1.20e-01, 5.14e-02, 5.71e-03]\n",
      "1400 [1.22e-01, 5.05e-02, 5.83e-03]\n",
      "1500 [1.24e-01, 4.97e-02, 5.99e-03]\n",
      "1600 [1.25e-01, 4.85e-02, 5.99e-03]\n",
      "1700 [1.27e-01, 4.73e-02, 5.72e-03]\n",
      "1800 [1.29e-01, 4.57e-02, 4.73e-03]\n",
      "1900 [1.32e-01, 4.71e-02, 2.74e-03]\n",
      "2000      [8.71e-06, 9.76e-06, 3.25e-06, 1.91e-06, 6.90e-08, 5.71e-09, 8.44e-09, 5.67e-10, 1.58e-03, 7.90e-04, 4.34e-04, 9.63e-04]    [8.71e-06, 9.76e-06, 3.25e-06, 1.91e-06, 6.90e-08, 5.71e-09, 8.44e-09, 5.67e-10, 1.58e-03, 7.90e-04, 4.34e-04, 9.63e-04]    []  \n",
      "2000 [1.37e-01, 4.76e-02, 2.14e-03]\n",
      "2100 [1.42e-01, 4.79e-02, 2.09e-03]\n",
      "2200 [1.47e-01, 4.81e-02, 2.49e-03]\n",
      "2300 [1.52e-01, 4.81e-02, 3.24e-03]\n",
      "2400 [1.58e-01, 4.82e-02, 4.19e-03]\n",
      "2500 [1.64e-01, 4.83e-02, 5.07e-03]\n",
      "2600 [1.69e-01, 4.85e-02, 5.82e-03]\n",
      "2700 [1.73e-01, 4.87e-02, 6.38e-03]\n",
      "2800 [1.77e-01, 4.88e-02, 6.68e-03]\n",
      "2900 [1.80e-01, 4.91e-02, 7.21e-03]\n",
      "3000      [2.82e-06, 2.12e-06, 8.95e-07, 5.41e-07, 1.63e-08, 1.42e-08, 3.73e-11, 7.05e-10, 1.15e-04, 7.20e-05, 2.80e-05, 6.16e-05]    [2.82e-06, 2.12e-06, 8.95e-07, 5.41e-07, 1.63e-08, 1.42e-08, 3.73e-11, 7.05e-10, 1.15e-04, 7.20e-05, 2.80e-05, 6.16e-05]    []  \n",
      "3000 [1.83e-01, 4.93e-02, 7.54e-03]\n",
      "3100 [1.85e-01, 4.94e-02, 7.74e-03]\n",
      "3200 [1.86e-01, 4.95e-02, 7.96e-03]\n",
      "3300 [1.87e-01, 4.95e-02, 7.91e-03]\n",
      "3400 [1.88e-01, 4.96e-02, 8.22e-03]\n",
      "3500 [1.89e-01, 4.96e-02, 8.36e-03]\n",
      "3600 [1.89e-01, 4.96e-02, 8.39e-03]\n",
      "3700 [1.90e-01, 4.97e-02, 8.51e-03]\n",
      "3800 [1.91e-01, 4.97e-02, 8.61e-03]\n",
      "3900 [1.90e-01, 5.00e-02, 8.75e-03]\n",
      "4000      [2.07e-06, 1.12e-06, 2.88e-07, 2.46e-07, 2.23e-09, 8.05e-12, 2.57e-11, 2.43e-11, 3.10e-05, 2.94e-05, 9.12e-06, 1.79e-05]    [2.07e-06, 1.12e-06, 2.88e-07, 2.46e-07, 2.23e-09, 8.05e-12, 2.57e-11, 2.43e-11, 3.10e-05, 2.94e-05, 9.12e-06, 1.79e-05]    []  \n",
      "4000 [1.91e-01, 4.97e-02, 8.69e-03]\n",
      "4100 [1.92e-01, 4.97e-02, 8.80e-03]\n",
      "4200 [1.92e-01, 4.97e-02, 8.87e-03]\n",
      "4300 [1.92e-01, 4.98e-02, 8.70e-03]\n",
      "4400 [1.93e-01, 4.98e-02, 8.94e-03]\n",
      "4500 [1.93e-01, 4.98e-02, 9.02e-03]\n",
      "4600 [1.93e-01, 4.97e-02, 9.05e-03]\n",
      "4700 [1.94e-01, 4.98e-02, 9.08e-03]\n",
      "4800 [1.94e-01, 4.95e-02, 9.22e-03]\n",
      "4900 [1.94e-01, 4.98e-02, 9.17e-03]\n",
      "5000      [2.37e-06, 8.25e-07, 1.83e-07, 1.20e-07, 1.10e-07, 9.77e-07, 2.98e-07, 1.26e-08, 3.37e-04, 7.44e-05, 3.25e-04, 3.98e-05]    [2.37e-06, 8.25e-07, 1.83e-07, 1.20e-07, 1.10e-07, 9.77e-07, 2.98e-07, 1.26e-08, 3.37e-04, 7.44e-05, 3.25e-04, 3.98e-05]    []  \n",
      "5000 [1.94e-01, 5.00e-02, 9.42e-03]\n",
      "5100 [1.95e-01, 4.98e-02, 9.24e-03]\n",
      "5200 [1.94e-01, 4.98e-02, 9.22e-03]\n",
      "5300 [1.95e-01, 4.98e-02, 9.32e-03]\n",
      "5400 [1.95e-01, 4.98e-02, 9.30e-03]\n",
      "5500 [1.95e-01, 4.97e-02, 9.54e-03]\n",
      "5600 [1.95e-01, 4.98e-02, 9.40e-03]\n",
      "5700 [1.96e-01, 4.98e-02, 9.38e-03]\n",
      "5800 [1.96e-01, 4.97e-02, 9.37e-03]\n",
      "5900 [1.96e-01, 4.98e-02, 9.48e-03]\n",
      "6000      [1.14e-06, 3.44e-07, 8.97e-08, 9.93e-08, 3.37e-09, 1.45e-09, 1.09e-09, 6.79e-11, 7.96e-06, 9.39e-06, 3.98e-06, 2.02e-06]    [1.14e-06, 3.44e-07, 8.97e-08, 9.93e-08, 3.37e-09, 1.45e-09, 1.09e-09, 6.79e-11, 7.96e-06, 9.39e-06, 3.98e-06, 2.02e-06]    []  \n",
      "6000 [1.96e-01, 4.99e-02, 9.49e-03]\n",
      "6100 [1.96e-01, 4.98e-02, 9.53e-03]\n",
      "6200 [1.96e-01, 4.98e-02, 9.43e-03]\n",
      "6300 [1.97e-01, 4.98e-02, 9.56e-03]\n",
      "6400 [1.96e-01, 4.98e-02, 9.38e-03]\n",
      "6500 [1.97e-01, 4.99e-02, 9.59e-03]\n",
      "6600 [1.97e-01, 4.99e-02, 9.61e-03]\n",
      "6700 [1.97e-01, 4.98e-02, 9.64e-03]\n",
      "6800 [1.97e-01, 4.99e-02, 9.62e-03]\n",
      "6900 [1.97e-01, 4.99e-02, 9.65e-03]\n",
      "7000      [7.57e-07, 2.04e-07, 6.79e-08, 7.56e-08, 4.81e-10, 1.31e-10, 3.26e-12, 4.32e-11, 4.24e-06, 5.86e-06, 2.08e-06, 9.27e-07]    [7.57e-07, 2.04e-07, 6.79e-08, 7.56e-08, 4.81e-10, 1.31e-10, 3.26e-12, 4.32e-11, 4.24e-06, 5.86e-06, 2.08e-06, 9.27e-07]    []  \n",
      "7000 [1.97e-01, 4.99e-02, 9.68e-03]\n",
      "7100 [1.98e-01, 4.99e-02, 9.71e-03]\n",
      "7200 [1.98e-01, 4.99e-02, 9.70e-03]\n",
      "7300 [1.98e-01, 4.99e-02, 9.72e-03]\n",
      "7400 [1.97e-01, 4.97e-02, 9.48e-03]\n",
      "7500      [6.01e-07, 1.49e-07, 7.12e-08, 5.37e-08, 3.15e-09, 2.66e-09, 8.25e-10, 1.85e-10, 3.46e-06, 4.74e-06, 2.10e-06, 7.61e-07]    [6.01e-07, 1.49e-07, 7.12e-08, 5.37e-08, 3.15e-09, 2.66e-09, 8.25e-10, 1.85e-10, 3.46e-06, 4.74e-06, 2.10e-06, 7.61e-07]    []  \n",
      "7500 [1.98e-01, 4.99e-02, 9.75e-03]\n",
      "\n",
      "Best model at step 7500:\n",
      "  train loss: 1.19e-05\n",
      "  test loss: 1.19e-05\n",
      "  test metric: []\n",
      "\n",
      "'train' took 162.138450 s\n",
      "\n"
     ]
    }
   ],
   "source": [
    "variable = dde.callbacks.VariableValue(variables, period=100)\n",
    "losshistory, train_state = model.train(iterations=7500, callbacks=[variable])"
   ]
  },
  {
   "cell_type": "code",
   "execution_count": 44,
   "id": "c7dfbd2a",
   "metadata": {},
   "outputs": [
    {
     "data": {
      "image/png": "[encoded data removed]",
      "text/plain": [
       "<Figure size 432x288 with 1 Axes>"
      ]
     },
     "metadata": {
      "needs_background": "light"
     },
     "output_type": "display_data"
    },
    {
     "data": {
      "image/png": "[encoded data removed]",
      "text/plain": [
       "<Figure size 432x288 with 1 Axes>"
      ]
     },
     "metadata": {
      "needs_background": "light"
     },
     "output_type": "display_data"
    }
   ],
   "source": [
    "dde.saveplot(losshistory, train_state, issave=False, isplot=True)"
   ]
  },
  {
   "cell_type": "code",
   "execution_count": null,
   "id": "d6b6ae45",
   "metadata": {},
   "outputs": [],
   "source": []
  },
  {
   "cell_type": "code",
   "execution_count": null,
   "id": "34e5bcf2",
   "metadata": {},
   "outputs": [],
   "source": []
  },
  {
   "cell_type": "code",
   "execution_count": null,
   "id": "67cfe410",
   "metadata": {},
   "outputs": [],
   "source": []
  }
 ],
 "metadata": {
  "kernelspec": {
   "display_name": "Python 3 (ipykernel)",
   "language": "python",
   "name": "python3"
  },
  "language_info": {
   "codemirror_mode": {
    "name": "ipython",
    "version": 3
   },
   "file_extension": ".py",
   "mimetype": "text/x-python",
   "name": "python",
   "nbconvert_exporter": "python",
   "pygments_lexer": "ipython3",
   "version": "3.9.7"
  }
 },
 "nbformat": 4,
 "nbformat_minor": 5
}
