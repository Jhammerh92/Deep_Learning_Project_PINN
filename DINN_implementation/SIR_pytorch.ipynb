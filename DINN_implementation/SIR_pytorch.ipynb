{
 "cells": [
  {
   "cell_type": "code",
   "execution_count": 112,
   "id": "302aec9c",
   "metadata": {},
   "outputs": [],
   "source": [
    "import torch\n",
    "import numpy as np\n",
    "import matplotlib.pyplot as plt\n",
    "from torch import nn\n",
    "import torch.optim as optim\n",
    "import torch.nn.init as init\n",
    "from torch.nn.parameter import Parameter\n",
    "import torch.nn.functional as F\n",
    "from torch.autograd import grad"
   ]
  },
  {
   "cell_type": "code",
   "execution_count": 113,
   "id": "91698ca6",
   "metadata": {},
   "outputs": [],
   "source": [
    "def calc_grad(inp, out):\n",
    "    return grad(out, inp, \n",
    "                grad_outputs = torch.ones_like(out),\n",
    "                create_graph=True)[0]"
   ]
  },
  {
   "cell_type": "code",
   "execution_count": 114,
   "id": "f1c513a5",
   "metadata": {},
   "outputs": [],
   "source": [
    "class Net(nn.Module):\n",
    "\n",
    "    def __init__(self, num_hidden, num_features, num_output, num_hidden_layers):\n",
    "        super(Net, self).__init__()  \n",
    "        self.num_hidden_layers = num_hidden_layers\n",
    "        # input layer\n",
    "        self.W_1 = Parameter(init.xavier_normal_(torch.Tensor(num_hidden, num_features)))\n",
    "        self.b_1 = Parameter(init.constant_(torch.Tensor(num_hidden), 0))\n",
    "        # hidden layer\n",
    "        self.W_2 = Parameter(init.xavier_normal_(torch.Tensor(num_hidden, num_hidden)))\n",
    "        self.b_2 = Parameter(init.constant_(torch.Tensor(num_hidden), 0))\n",
    "        # hidden layer\n",
    "        self.W_3 = Parameter(init.xavier_normal_(torch.Tensor(num_output, num_hidden)))\n",
    "        self.b_3 = Parameter(init.constant_(torch.Tensor(num_output), 0))\n",
    "        # define activation function in constructor\n",
    "        # self.activation = torch.nn.ELU()\n",
    "        #self.activation = torch.nn.Tanh()\n",
    "        #self.activation = torch.nn.ReLU()\n",
    "        self.activation = torch.nn.Sigmoid()\n",
    "        self.dropout = nn.Dropout(0.1)\n",
    "        self.batchnorm = nn.BatchNorm1d(num_hidden, affine=False)\n",
    "        \n",
    "    def forward(self, x):\n",
    "        #x = torch.stack((x,y),axis=1)\n",
    "        x = F.linear(x, self.W_1, self.b_1)\n",
    "        x = self.activation(x)\n",
    "        # x = self.dropout(x) \n",
    "        # x = self.batchnorm(x)\n",
    "        \n",
    "        for i in range(self.num_hidden_layers):\n",
    "            x = F.linear(x, self.W_2, self.b_2)\n",
    "            x = self.activation(x)\n",
    "        \n",
    "        x = F.linear(x, self.W_3, self.b_3)\n",
    "        # x = self.activation(x)\n",
    "        return x"
   ]
  },
  {
   "cell_type": "code",
   "execution_count": 115,
   "id": "2a562393",
   "metadata": {},
   "outputs": [],
   "source": [
    "alpha = 0.2\n",
    "beta = 0.05\n",
    "gamma = 0.01"
   ]
  },
  {
   "cell_type": "code",
   "execution_count": 116,
   "id": "8700af77",
   "metadata": {},
   "outputs": [
    {
     "name": "stdout",
     "output_type": "stream",
     "text": [
      "total  [2.04643018e+05 1.47928048e+03 3.99489808e+06 7.98979617e+05]\n",
      "total  5000000.000000002\n"
     ]
    },
    {
     "data": {
      "image/png": "[encoded data removed]",
      "text/plain": [
       "<Figure size 432x288 with 1 Axes>"
      ]
     },
     "metadata": {
      "needs_background": "light"
     },
     "output_type": "display_data"
    }
   ],
   "source": [
    "import ODE_SIR\n",
    "solver = ODE_SIR.ODESolver()\n",
    "t, wsol, N = solver.solve_SIRD(alpha, beta, gamma)\n",
    "solver.plot_SIRD(t, wsol)"
   ]
  },
  {
   "cell_type": "code",
   "execution_count": 117,
   "id": "35e35b86",
   "metadata": {},
   "outputs": [],
   "source": [
    "S_sol, I_sol, R_sol, D_sol = wsol[:,0], wsol[:,1], wsol[:,2], wsol[:,3]\n",
    "init_num_people = np.sum(wsol[0,:])\n",
    "S_sol = S_sol/init_num_people\n",
    "I_sol = I_sol/init_num_people\n",
    "R_sol = R_sol/init_num_people\n",
    "D_sol = D_sol/init_num_people"
   ]
  },
  {
   "cell_type": "code",
   "execution_count": 118,
   "id": "a580ac4f",
   "metadata": {},
   "outputs": [],
   "source": [
    "t = torch.tensor(t, requires_grad=True).reshape(len(t),1).float()\n",
    "S_sol = torch.tensor(S_sol, requires_grad=True).reshape(len(S_sol),1).float()\n",
    "I_sol = torch.tensor(I_sol, requires_grad=True).reshape(len(I_sol),1).float()\n",
    "R_sol = torch.tensor(R_sol, requires_grad=True).reshape(len(R_sol),1).float()\n",
    "D_sol = torch.tensor(D_sol, requires_grad=True).reshape(len(D_sol),1).float()\n",
    "init_num_people = torch.tensor(init_num_people).float()"
   ]
  },
  {
   "cell_type": "code",
   "execution_count": 119,
   "id": "4ad5a6e9",
   "metadata": {},
   "outputs": [],
   "source": [
    "num_hidden, num_features, num_output = 50, 1, 1\n",
    "num_hidden_layers = 5\n",
    "\n",
    "S_net = Net(num_hidden, num_features, num_output, num_hidden_layers)\n",
    "I_net = Net(num_hidden, num_features, num_output, num_hidden_layers)\n",
    "R_net = Net(num_hidden, num_features, num_output, num_hidden_layers)\n",
    "D_net = Net(num_hidden, num_features, num_output, num_hidden_layers)\n",
    "\n",
    "t_train = t\n",
    "\n",
    "get_slice = lambda i, size: range(i * size, (i + 1) * size)\n",
    "num_samples_train = t_train.shape[0]\n",
    "batch_size = 50\n",
    "num_batches_train = num_samples_train // batch_size"
   ]
  },
  {
   "cell_type": "code",
   "execution_count": 120,
   "id": "1bc0361a",
   "metadata": {},
   "outputs": [],
   "source": [
    "num_epochs = 100\n",
    "S_optimizer = optim.Adam(S_net.parameters(), lr=0.01)\n",
    "I_optimizer = optim.Adam(I_net.parameters(), lr=0.01)\n",
    "R_optimizer = optim.Adam(R_net.parameters(), lr=0.01)\n",
    "D_optimizer = optim.Adam(D_net.parameters(), lr=0.01)\n",
    "criterion = nn.MSELoss()"
   ]
  },
  {
   "cell_type": "code",
   "execution_count": 123,
   "id": "b9c28175",
   "metadata": {},
   "outputs": [
    {
     "name": "stdout",
     "output_type": "stream",
     "text": [
      "Epoch  1 : Train Loss 0.069489\n",
      "Epoch 11 : Train Loss 0.288096\n",
      "Epoch 21 : Train Loss 0.172449\n",
      "Epoch 31 : Train Loss 0.162691\n",
      "Epoch 41 : Train Loss 0.151686\n",
      "Epoch 51 : Train Loss 0.164708\n",
      "Epoch 61 : Train Loss 0.150634\n",
      "Epoch 71 : Train Loss 0.171341\n",
      "Epoch 81 : Train Loss 0.165677\n",
      "Epoch 91 : Train Loss 0.250959\n"
     ]
    }
   ],
   "source": [
    "train_acc, train_loss = [], []\n",
    "valid_acc, valid_loss = [], []\n",
    "test_acc, test_loss = [], []\n",
    "\n",
    "losses = []\n",
    "for epoch in range(num_epochs):\n",
    "    # Forward -> Backprob -> Update params\n",
    "    ## Train\n",
    "    cur_loss = 0\n",
    "    S_net.train()\n",
    "    I_net.train()\n",
    "    R_net.train()\n",
    "    D_net.train()\n",
    "    \n",
    "    for i in range(num_batches_train):\n",
    "        S_optimizer.zero_grad()\n",
    "        I_optimizer.zero_grad()\n",
    "        R_optimizer.zero_grad()\n",
    "        D_optimizer.zero_grad()\n",
    "\n",
    "        slce = get_slice(i, batch_size)\n",
    "        t_batch = t_train[slce]\n",
    "        \n",
    "        S = S_net(t_batch)\n",
    "        S = S.reshape(S.shape[0])\n",
    "        St = calc_grad(t_batch, S)\n",
    "        \n",
    "        I = I_net(t_batch)\n",
    "        I = I.reshape(I.shape[0])\n",
    "        It = calc_grad(t_batch, I)\n",
    "        \n",
    "        R = R_net(t_batch)\n",
    "        R = R.reshape(R.shape[0])\n",
    "        Rt = calc_grad(t_batch, R)\n",
    "        \n",
    "        D = D_net(t_batch)\n",
    "        D = D.reshape(D.shape[0])\n",
    "        Dt = calc_grad(t_batch, D)\n",
    "        \n",
    "        #S_rhs = -(alpha/N)*S*I\n",
    "        #I_rhs = (alpha/N)*S*I-beta*I-gamma*I\n",
    "        \n",
    "        S_rhs = -alpha*S*I\n",
    "        I_rhs = alpha*S*I-beta*I-gamma*I\n",
    "        R_rhs = beta*I\n",
    "        D_rhs = gamma*I\n",
    "        \n",
    "        num_people = (S + I + R + D).reshape(S.shape)\n",
    "        target_num_people = torch.ones((S.shape[0],1))# * init_num_people\n",
    "        \n",
    "        S_net_synthetic = S_net(t)\n",
    "        I_net_synthetic = I_net(t)\n",
    "        R_net_synthetic = R_net(t)\n",
    "        D_net_synthetic = D_net(t)\n",
    "        \n",
    "        S_loss = criterion(S_rhs.flatten(), St.flatten())\n",
    "        I_loss = criterion(I_rhs.flatten(), It.flatten())\n",
    "        R_loss = criterion(R_rhs.flatten(), Rt.flatten())\n",
    "        D_loss = criterion(D_rhs.flatten(), Dt.flatten())\n",
    "        num_people_loss = criterion(num_people.flatten(),\n",
    "                                   target_num_people.flatten())\n",
    "        S_synth_loss = criterion(S_net_synthetic.flatten(), S_sol.flatten())\n",
    "        I_synth_loss = criterion(I_net_synthetic.flatten(), I_sol.flatten())\n",
    "        R_synth_loss = criterion(R_net_synthetic.flatten(), R_sol.flatten())\n",
    "        D_synth_loss = criterion(D_net_synthetic.flatten(), D_sol.flatten())\n",
    "        \n",
    "        \n",
    "        batch_loss = (#S_loss + I_loss + R_loss + D_loss\n",
    "                      + 10*num_people_loss\n",
    "                      + S_synth_loss + I_synth_loss*10\n",
    "                      + R_synth_loss + D_synth_loss\n",
    "                     )\n",
    "        batch_loss.backward()#retain_graph=True)\n",
    "        \n",
    "        S_optimizer.step()\n",
    "        I_optimizer.step()\n",
    "        R_optimizer.step()\n",
    "        D_optimizer.step()\n",
    "        \n",
    "        cur_loss += batch_loss   \n",
    "    losses.append(cur_loss / batch_size)\n",
    "        \n",
    "    if epoch%10==0:\n",
    "        print(\"Epoch %2i : Train Loss %f\" % (\n",
    "            epoch+1, losses[-1]))"
   ]
  },
  {
   "cell_type": "code",
   "execution_count": 124,
   "id": "7f26e1d3",
   "metadata": {},
   "outputs": [
    {
     "data": {
      "text/plain": [
       "<matplotlib.legend.Legend at 0x27785451760>"
      ]
     },
     "execution_count": 124,
     "metadata": {},
     "output_type": "execute_result"
    },
    {
     "data": {
      "image/png": "[encoded data removed]",
      "text/plain": [
       "<Figure size 432x288 with 1 Axes>"
      ]
     },
     "metadata": {
      "needs_background": "light"
     },
     "output_type": "display_data"
    }
   ],
   "source": [
    "plt.plot(t.flatten().detach(), S_net(t).flatten().detach(),label='S')\n",
    "plt.plot(t.flatten().detach(), I_net(t).flatten().detach(),label='I')\n",
    "plt.plot(t.flatten().detach(), R_net(t).flatten().detach(),label='R')\n",
    "plt.plot(t.flatten().detach(), D_net(t).flatten().detach(),label='D')\n",
    "plt.legend()"
   ]
  },
  {
   "cell_type": "code",
   "execution_count": 95,
   "id": "14370c2a",
   "metadata": {},
   "outputs": [
    {
     "name": "stdout",
     "output_type": "stream",
     "text": [
      "tensor([0.4415, 0.4510, 0.4581,  ..., 0.3992, 0.3992, 0.3992],\n",
      "       grad_fn=<ReshapeAliasBackward0>)\n",
      "tensor([1.0000, 1.0000, 1.0000,  ..., 0.0409, 0.0409, 0.0409],\n",
      "       grad_fn=<ReshapeAliasBackward0>)\n"
     ]
    }
   ],
   "source": [
    "output\n",
    "#target_batch\n",
    "print(S_net_synthetic.flatten())\n",
    "print(S_sol.flatten())"
   ]
  },
  {
   "cell_type": "code",
   "execution_count": null,
   "id": "e4f175c2",
   "metadata": {},
   "outputs": [],
   "source": []
  }
 ],
 "metadata": {
  "kernelspec": {
   "display_name": "Python 3 (ipykernel)",
   "language": "python",
   "name": "python3"
  },
  "language_info": {
   "codemirror_mode": {
    "name": "ipython",
    "version": 3
   },
   "file_extension": ".py",
   "mimetype": "text/x-python",
   "name": "python",
   "nbconvert_exporter": "python",
   "pygments_lexer": "ipython3",
   "version": "3.9.7"
  }
 },
 "nbformat": 4,
 "nbformat_minor": 5
}
